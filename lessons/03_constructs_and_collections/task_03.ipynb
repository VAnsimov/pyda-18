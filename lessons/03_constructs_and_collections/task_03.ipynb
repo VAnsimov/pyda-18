{
 "cells": [
  {
   "cell_type": "markdown",
   "metadata": {
    "pycharm": {
     "name": "#%% md\n"
    }
   },
   "source": [
    "## Задание 3\n",
    "Дана переменная, в которой хранится информация о затратах и доходе рекламных кампаний по различным источникам. Необходимо дополнить исходную структуру показателем [ROI](https://ru.wikipedia.org/wiki/%D0%9E%D0%BA%D1%83%D0%BF%D0%B0%D0%B5%D0%BC%D0%BE%D1%81%D1%82%D1%8C_%D0%B8%D0%BD%D0%B2%D0%B5%D1%81%D1%82%D0%B8%D1%86%D0%B8%D0%B9), который рассчитаем по формуле: **(revenue / cost - 1) * 100**\n",
    "\n",
    "Пример работы программы:  \n",
    "\n",
    "```\n",
    "results = {\n",
    "    'vk': {'revenue': 103, 'cost': 98},\n",
    "    'yandex': {'revenue': 179, 'cost': 153},\n",
    "    'facebook': {'revenue': 103, 'cost': 110},\n",
    "    'adwords': {'revenue': 35, 'cost': 34},\n",
    "    'twitter': {'revenue': 11, 'cost': 24},\n",
    "}\n",
    "```\n",
    "\n",
    "Результат: \n",
    "```\n",
    "{'adwords': {'cost': 34, 'revenue': 35, 'ROI': 2.94},\n",
    " 'facebook': {'cost': 110, 'revenue': 103, 'ROI': -6.36},\n",
    " 'twitter': {'cost': 24, 'revenue': 11, 'ROI': -54.17},\n",
    " 'vk': {'cost': 98, 'revenue': 103, 'ROI': 5.1},\n",
    " 'yandex': {'cost': 153, 'revenue': 179, 'ROI': 16.99}}\n",
    "```"
   ]
  },
  {
   "cell_type": "code",
   "execution_count": null,
   "outputs": [],
   "source": [
    "results = {\n",
    "    'vk': {'revenue': 103, 'cost': 98},\n",
    "    'yandex': {'revenue': 179, 'cost': 153},\n",
    "    'facebook': {'revenue': 103, 'cost': 110},\n",
    "    'adwords': {'revenue': 35, 'cost': 34},\n",
    "    'twitter': {'revenue': 11, 'cost': 24},\n",
    "}\n",
    "\n",
    "for line in results:\n",
    "    if len(results[line]) == 0 \\\n",
    "            and 'revenue' in results[line] \\\n",
    "            and 'cost' in results[line]:\n",
    "        continue\n",
    "    revenue = results[line]['revenue']\n",
    "    cost = results[line]['cost']\n",
    "    results[line]['ROI'] = (revenue / cost - 1) * 100\n",
    "\n",
    "for line in results:\n",
    "    print(f'\\'{line}\\'', results[line])"
   ],
   "metadata": {
    "collapsed": false,
    "pycharm": {
     "name": "#%%\n"
    }
   }
  }
 ],
 "metadata": {
  "kernelspec": {
   "display_name": "Python 3",
   "language": "python",
   "name": "python3"
  },
  "language_info": {
   "codemirror_mode": {
    "name": "ipython",
    "version": 3
   },
   "file_extension": ".py",
   "mimetype": "text/x-python",
   "name": "python",
   "nbconvert_exporter": "python",
   "pygments_lexer": "ipython3",
   "version": "3.8.5"
  }
 },
 "nbformat": 4,
 "nbformat_minor": 2
}