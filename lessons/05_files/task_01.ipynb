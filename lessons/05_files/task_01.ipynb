{
 "cells": [
  {
   "cell_type": "markdown",
   "metadata": {
    "collapsed": true,
    "pycharm": {
     "name": "#%% md\n"
    }
   },
   "source": [
    "### Домашнее задание\n",
    "\n",
    "1. Переведите содержимое файла purchase_log.txt в словарь purchases вида:\n",
    "{‘1840e0b9d4’: ‘Продукты’, …}\n",
    "2. Для каждого user_id в файле visit_log.csv определите третий столбец с категорией покупки (если покупка была, сам файл visit_log.csv изменять не надо). Запишите в файл funnel.csv визиты из файла visit_log.csv, в которых были покупки с указанием категории.\n",
    "\n",
    "Учтите условия на данные:\n",
    "содержимое purchase_log.txt помещается в оперативную память компьютера\n",
    "содержимое visit_log.csv - нет; используйте только построчную обработку этого файла"
   ]
  },
  {
   "cell_type": "code",
   "execution_count": 2,
   "outputs": [],
   "source": [
    "import json\n",
    "\n",
    "def main():\n",
    "    logs = convert_log_to_json('purchase_log.txt')\n",
    "    combine_logs_and_file(logs, 'visit_log.csv')\n",
    "\n",
    "def convert_log_to_json(file: str) -> dict:\n",
    "    logs = dict()\n",
    "\n",
    "    with open(file, mode='r') as purchase_log_file:\n",
    "\n",
    "        # skipping the first line\n",
    "        purchase_log_file.readline()\n",
    "\n",
    "        for line in purchase_log_file:\n",
    "            log_json = json.loads(line)\n",
    "            user_id_key = 'user_id'\n",
    "            category_key = 'category'\n",
    "\n",
    "            if user_id_key not in log_json \\\n",
    "                or category_key not in log_json:\n",
    "                continue\n",
    "\n",
    "            user_id = log_json[user_id_key]\n",
    "            category =  log_json[category_key]\n",
    "\n",
    "            logs.setdefault(user_id, [])\n",
    "            logs[user_id].append(category)\n",
    "\n",
    "    return logs\n",
    "\n",
    "def combine_logs_and_file(logs: dict, file: str):\n",
    "    with open(file, mode='r') as file:\n",
    "        with open('funnel.csv', mode='w') as funnel_file:\n",
    "\n",
    "            first_line = file.readline().strip()\n",
    "            funnel_file.write(first_line + ',purchase_category\\n')\n",
    "\n",
    "            for index, origin_line in enumerate(file):\n",
    "                line = origin_line.strip().split(',')\n",
    "\n",
    "                if len(line) != 2:\n",
    "                    continue\n",
    "\n",
    "                user_id = line[0]\n",
    "\n",
    "                if user_id in logs:\n",
    "                    category = ' & '.join(logs[user_id])\n",
    "                    line.append(category)\n",
    "\n",
    "                if len(line) > 2:\n",
    "                    result = ','.join(line) + '\\n'\n",
    "                    funnel_file.write(result)\n",
    "\n",
    "main()"
   ],
   "metadata": {
    "collapsed": false,
    "pycharm": {
     "name": "#%%\n"
    }
   }
  }
 ],
 "metadata": {
  "kernelspec": {
   "display_name": "Python 3",
   "language": "python",
   "name": "python3"
  },
  "language_info": {
   "codemirror_mode": {
    "name": "ipython",
    "version": 2
   },
   "file_extension": ".py",
   "mimetype": "text/x-python",
   "name": "python",
   "nbconvert_exporter": "python",
   "pygments_lexer": "ipython2",
   "version": "2.7.6"
  }
 },
 "nbformat": 4,
 "nbformat_minor": 0
}