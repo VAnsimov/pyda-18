{
 "cells": [
  {
   "cell_type": "markdown",
   "metadata": {
    "pycharm": {
     "name": "#%% md\n"
    }
   },
   "source": [
    "## Задание 1\n",
    "\n",
    "Напишите функцию, которая принимает на вход строку и проверяет является ли она валидным транспортным номером (1 буква, 3 цифры, 2 буквы, 2-3 цифры). Обратите внимание, что не все буквы кириллического алфавита используются в транспортных номерах.\n",
    "\n",
    "Если номер валиден, то функция должна возвращать отдельно номер и регион.\n",
    "\n",
    "Примеры работы программы:  \n",
    "\n",
    "1. `car_id = 'A222BC96'`\n",
    "\n",
    "Результат: \n",
    "`Номер A222BС валиден. Регион: 96`\n",
    "\n",
    "2. `car_id = 'АБ22ВВ193'`\n",
    "\n",
    "Результат: \n",
    "`Номер не валиден`"
   ]
  },
  {
   "cell_type": "code",
   "execution_count": 1,
   "outputs": [
    {
     "name": "stdout",
     "output_type": "stream",
     "text": [
      "Номер A222BC валиден. Регион: 96\n"
     ]
    }
   ],
   "source": [
    "import re\n",
    "\n",
    "def main():\n",
    "    car_id = 'A222BC96'\n",
    "    validate_number(car_id)\n",
    "\n",
    "def validate_number(number: str):\n",
    "    no_validate_message = 'Номер не валиден'\n",
    "\n",
    "    if len(number) > 9:\n",
    "        print(no_validate_message)\n",
    "        return\n",
    "\n",
    "    result = re.findall(pattern=r'\\w{1}\\d{3}\\w{2}\\d{2,3}', string=number)\n",
    "\n",
    "    if len(result) != 1:\n",
    "        print(no_validate_message)\n",
    "        return\n",
    "\n",
    "    valid_number = re.findall(pattern=r'\\w{1}\\d{3}\\w{2}', string=number)\n",
    "    region = re.findall(pattern=r'\\d{2,3}$', string=number)\n",
    "\n",
    "    print('Номер {} валиден. Регион: {}'.format(valid_number[0], region[0]))\n",
    "\n",
    "\n",
    "main()"
   ],
   "metadata": {
    "collapsed": false,
    "pycharm": {
     "name": "#%%\n"
    }
   }
  }
 ],
 "metadata": {
  "kernelspec": {
   "display_name": "Python 3",
   "language": "python",
   "name": "python3"
  },
  "language_info": {
   "codemirror_mode": {
    "name": "ipython",
    "version": 3
   },
   "file_extension": ".py",
   "mimetype": "text/x-python",
   "name": "python",
   "nbconvert_exporter": "python",
   "pygments_lexer": "ipython3",
   "version": "3.7.6"
  }
 },
 "nbformat": 4,
 "nbformat_minor": 2
}