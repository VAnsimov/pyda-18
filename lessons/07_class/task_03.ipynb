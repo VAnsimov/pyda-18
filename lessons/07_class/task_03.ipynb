{
 "cells": [
  {
   "cell_type": "markdown",
   "metadata": {
    "collapsed": true,
    "pycharm": {
     "name": "#%% md\n"
    }
   },
   "source": [
    "### Задание 3\n",
    "Напишите класс Designer, который учитывает количество международных премий. Подсказки в коде занятия в разделе “Домашнее задание задача 3”.\n",
    "\n",
    "#### Комментарий по классу Designer такой:\n",
    "Напишите класс Designer, который учитывает количество международных премий для дизайнеров (из презентации: “Повышение на 1 грейд за каждые 7 баллов. Получение международной премии – это +2 балла”). Считайте, что при выходе на работу сотрудник уже имеет две премии и их количество не меняется со стажем (конечно если хотите это можно вручную менять).\n",
    "\n",
    "Класс Designer пишется по аналогии с классом Developer из материалов занятия. Комментарий про его условия Вика написала выше: “Повышение на 1 грейд за каждые 7 баллов. Получение международной премии – это +2 балла”"
   ]
  },
  {
   "cell_type": "code",
   "execution_count": 14,
   "outputs": [
    {
     "name": "stdout",
     "output_type": "stream",
     "text": [
      "Александр 5\n",
      "Александр 10\n",
      "Александр 11\n",
      "international awards: 35\n"
     ]
    }
   ],
   "source": [
    "from libs.Employee import Employee\n",
    "\n",
    "class Designer(Employee):\n",
    "\n",
    "    def __init__(self, name: str, seniority: int = 0, international_awards: int = 2):\n",
    "        self.unaccounted_international_awards = float(international_awards)\n",
    "        self.accounted_international_awards = 0.0\n",
    "        self.international_awards = international_awards\n",
    "        super().__init__(name, seniority)\n",
    "\n",
    "    def check_if_it_is_time_for_upgrade(self):\n",
    "        # для каждой аккредитации увеличиваем счетчик на 1\n",
    "        # пока считаем, что все разработчики проходят аккредитацию\n",
    "        self.seniority += 1\n",
    "\n",
    "        # условие повышения сотрудника\n",
    "        balls_per_award = 2.0\n",
    "        balls_per_grade = 7.0\n",
    "        balls = self.unaccounted_international_awards * balls_per_award\n",
    "        grades = balls // balls_per_grade\n",
    "        if grades > 0:\n",
    "            for _ in range(int(grades)):\n",
    "                self.grade_up()\n",
    "\n",
    "            # пересчет учтенных и не учтенных наград\n",
    "            accounted_awards = (grades * balls_per_grade) / balls_per_award\n",
    "            self.unaccounted_international_awards -= accounted_awards\n",
    "            self.accounted_international_awards += accounted_awards\n",
    "\n",
    "        # публикация результатов\n",
    "        self.publish_grade()\n",
    "\n",
    "    def add_international_awards(self, awards: int):\n",
    "        self.international_awards += awards\n",
    "        self.unaccounted_international_awards += float(awards)\n",
    "\n",
    "alex = Designer('Александр', international_awards=14)\n",
    "alex.check_if_it_is_time_for_upgrade()\n",
    "\n",
    "alex.add_international_awards(awards=20)\n",
    "alex.check_if_it_is_time_for_upgrade()\n",
    "\n",
    "alex.add_international_awards(awards=1)\n",
    "alex.check_if_it_is_time_for_upgrade()\n",
    "\n",
    "print(\"international awards:\", alex.international_awards)"
   ],
   "metadata": {
    "collapsed": false,
    "pycharm": {
     "name": "#%%\n"
    }
   }
  }
 ],
 "metadata": {
  "kernelspec": {
   "display_name": "Python 3",
   "language": "python",
   "name": "python3"
  },
  "language_info": {
   "codemirror_mode": {
    "name": "ipython",
    "version": 2
   },
   "file_extension": ".py",
   "mimetype": "text/x-python",
   "name": "python",
   "nbconvert_exporter": "python",
   "pygments_lexer": "ipython2",
   "version": "2.7.6"
  }
 },
 "nbformat": 4,
 "nbformat_minor": 0
}