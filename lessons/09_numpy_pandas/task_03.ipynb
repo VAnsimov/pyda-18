{
 "cells": [
  {
   "cell_type": "markdown",
   "metadata": {
    "collapsed": true,
    "pycharm": {
     "name": "#%% md\n"
    }
   },
   "source": [
    "## Задание 3\n",
    "Решите систему уравнений:\n",
    "```\n",
    "4x + 2y + z = 4\n",
    "x + 3y = 12\n",
    "5y + 4z = -3\n",
    "```"
   ]
  },
  {
   "cell_type": "code",
   "execution_count": null,
   "outputs": [],
   "source": [
    "import numpy\n",
    "\n",
    "def main():\n",
    "    solution = solution_of_system_of_equations()\n",
    "    print(solution)\n",
    "\n",
    "def solution_of_system_of_equations() -> numpy.ndarray:\n",
    "    '''\n",
    "    Will return the solution to the following equation:\n",
    "    4x + 2y + z = 4\n",
    "    x + 3y = 12\n",
    "    5y + 4z = -3\n",
    "    '''\n",
    "\n",
    "    matrix = numpy.array([\n",
    "        [4, 2, 1],\n",
    "        [1,3, 0],\n",
    "        [5, 0, 4]\n",
    "    ])\n",
    "    vector = numpy.array([4, 12, -3])\n",
    "\n",
    "    return numpy.linalg.solve(matrix, vector)\n",
    "\n",
    "main()"
   ],
   "metadata": {
    "collapsed": false,
    "pycharm": {
     "name": "#%%\n"
    }
   }
  }
 ],
 "metadata": {
  "kernelspec": {
   "display_name": "Python 3",
   "language": "python",
   "name": "python3"
  },
  "language_info": {
   "codemirror_mode": {
    "name": "ipython",
    "version": 2
   },
   "file_extension": ".py",
   "mimetype": "text/x-python",
   "name": "python",
   "nbconvert_exporter": "python",
   "pygments_lexer": "ipython2",
   "version": "2.7.6"
  }
 },
 "nbformat": 4,
 "nbformat_minor": 0
}