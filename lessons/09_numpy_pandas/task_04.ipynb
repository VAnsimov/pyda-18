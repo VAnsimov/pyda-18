{
 "cells": [
  {
   "cell_type": "markdown",
   "source": [
    "## Задание 4\n",
    "\n",
    "Имеется матрица покупок в интернет-магазине. Столбец А - ID пользователя. Остальные столбцы - количество покупок категорий товаров этим пользователем:\n",
    "\n",
    "```\n",
    "from IPython.display import Image\n",
    "Image(\"user_matrix.JPG\")\n",
    "```\n",
    "\n",
    "Матрица в виде numpy array\n",
    "\n",
    "```\n",
    "users_stats = np.array(\n",
    "    [\n",
    "        [2, 1, 0, 0, 0, 0],\n",
    "        [1, 1, 2, 1, 0, 0],\n",
    "        [2, 0, 1, 0, 0, 0],\n",
    "        [1, 1, 2, 1, 0, 1],\n",
    "        [0, 0, 1, 2, 0, 0],\n",
    "        [0, 0, 0, 0, 0, 5],\n",
    "        [1, 0, 0, 0, 0, 0],\n",
    "        [0, 1, 1, 0, 0, 0],\n",
    "        [0, 0, 0, 1, 1, 3],\n",
    "        [1, 0, 0, 2, 1, 4]\n",
    "    ],\n",
    "    np.int32\n",
    ")\n",
    "```\n",
    "\n",
    "На сайт заходит очередной посетитель, о покупках которого известно следующее:\n",
    "\n",
    "```\n",
    "next_user_stats = np.array([0, 1, 2, 0, 0, 0])\n",
    "```\n",
    "\n",
    "Найдите самого похожего пользователя. Т. е. посчитайте косинусное сходство между этим пользователем и всеми пользователями из массива user_stats"
   ],
   "metadata": {
    "collapsed": false,
    "pycharm": {
     "name": "#%% md\n"
    }
   }
  },
  {
   "cell_type": "code",
   "execution_count": 1,
   "outputs": [
    {
     "name": "stdout",
     "output_type": "stream",
     "text": [
      "[0 1 1 0 0 0]\n"
     ]
    }
   ],
   "source": [
    "import numpy\n",
    "\n",
    "def main():\n",
    "    users_stats = numpy.array([\n",
    "        [2, 1, 0, 0, 0, 0],\n",
    "        [1, 1, 2, 1, 0, 0],\n",
    "        [2, 0, 1, 0, 0, 0],\n",
    "        [1, 1, 2, 1, 0, 1],\n",
    "        [0, 0, 1, 2, 0, 0],\n",
    "        [0, 0, 0, 0, 0, 5],\n",
    "        [1, 0, 0, 0, 0, 0],\n",
    "        [0, 1, 1, 0, 0, 0],\n",
    "        [0, 0, 0, 1, 1, 3],\n",
    "        [1, 0, 0, 2, 1, 4]\n",
    "    ], numpy.int32)\n",
    "    next_user_stats = numpy.array([0, 1, 2, 0, 0, 0])\n",
    "    similar_user = search_for_similar_user(for_user=next_user_stats, users_stats=users_stats)\n",
    "\n",
    "    print(similar_user)\n",
    "\n",
    "def search_for_similar_user(for_user: numpy.ndarray, users_stats: numpy.ndarray) -> numpy.ndarray:\n",
    "    max_value = 0\n",
    "    similar_user = numpy.zeros(0)\n",
    "\n",
    "    for user in users_stats:\n",
    "        value = counting_cosine_angle(vector_a=user, vector_b=for_user)\n",
    "\n",
    "        if value > max_value:\n",
    "            max_value = value\n",
    "            similar_user = user\n",
    "\n",
    "    return similar_user\n",
    "\n",
    "\n",
    "def counting_cosine_angle(vector_a: numpy.ndarray, vector_b: numpy.ndarray) -> int:\n",
    "    \"\"\"\n",
    "    Calculating the cosine of the angle between vectors `a`, `b` by their coordinates\n",
    "    \"\"\"\n",
    "\n",
    "    # vector lengths\n",
    "    a_length = numpy.linalg.norm(vector_a)\n",
    "    b_length = numpy.linalg.norm(vector_b)\n",
    "\n",
    "    return numpy.dot(vector_a, vector_b) / (a_length * b_length)\n",
    "\n",
    "main()"
   ],
   "metadata": {
    "collapsed": false,
    "pycharm": {
     "name": "#%%\n"
    }
   }
  }
 ],
 "metadata": {
  "kernelspec": {
   "display_name": "Python 3",
   "language": "python",
   "name": "python3"
  },
  "language_info": {
   "codemirror_mode": {
    "name": "ipython",
    "version": 2
   },
   "file_extension": ".py",
   "mimetype": "text/x-python",
   "name": "python",
   "nbconvert_exporter": "python",
   "pygments_lexer": "ipython2",
   "version": "2.7.6"
  }
 },
 "nbformat": 4,
 "nbformat_minor": 0
}