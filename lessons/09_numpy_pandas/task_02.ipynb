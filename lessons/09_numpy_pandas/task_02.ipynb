{
 "cells": [
  {
   "cell_type": "markdown",
   "source": [
    "## Задание 2\n",
    "Создайте диагональную матрицу с элементами от N до 0. Посчитайте сумму ее значений на диагонали."
   ],
   "metadata": {
    "collapsed": false
   }
  },
  {
   "cell_type": "code",
   "execution_count": null,
   "outputs": [],
   "source": [
    "import numpy\n",
    "\n",
    "def main():\n",
    "    matrix = create_matrix(count=10)\n",
    "    sum_matrix_diagonal = get_sum_diagonal(matrix=matrix)\n",
    "\n",
    "    print(sum_matrix_diagonal)\n",
    "\n",
    "def create_matrix(count: int) -> numpy.ndarray:\n",
    "    array = numpy.arange(0, count, 1)\n",
    "    matrix = numpy.diag(array[::-1])\n",
    "    return matrix\n",
    "\n",
    "def get_sum_diagonal(matrix: numpy.ndarray) -> int:\n",
    "    array = matrix.ravel()\n",
    "    diagonal = [array[index] for index in range(0, len(array), len(matrix)+1)]\n",
    "    return sum(diagonal)\n",
    "\n",
    "main()"
   ],
   "metadata": {
    "collapsed": false,
    "pycharm": {
     "name": "#%%\n"
    }
   }
  }
 ],
 "metadata": {
  "kernelspec": {
   "display_name": "Python 3",
   "language": "python",
   "name": "python3"
  },
  "language_info": {
   "codemirror_mode": {
    "name": "ipython",
    "version": 2
   },
   "file_extension": ".py",
   "mimetype": "text/x-python",
   "name": "python",
   "nbconvert_exporter": "python",
   "pygments_lexer": "ipython2",
   "version": "2.7.6"
  }
 },
 "nbformat": 4,
 "nbformat_minor": 0
}