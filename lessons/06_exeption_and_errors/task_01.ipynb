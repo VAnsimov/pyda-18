{
 "cells": [
  {
   "cell_type": "markdown",
   "metadata": {
    "collapsed": true,
    "pycharm": {
     "name": "#%% md\n"
    }
   },
   "source": [
    "### Задание 1\n",
    "Печатные газеты использовали свой формат дат для каждого выпуска. Для каждой газеты из списка напишите формат указанной даты для перевода в объект datetime:\n",
    "The Moscow Times - Wednesday, October 2, 2002\n",
    "The Guardian - Friday, 11.10.13\n",
    "Daily News - Thursday, 18 August 1977"
   ]
  },
  {
   "cell_type": "code",
   "execution_count": null,
   "outputs": [],
   "source": [
    "from datetime import datetime\n",
    "\n",
    "def main():\n",
    "    srt_dates = [\n",
    "        'Wednesday, October 2, 2002',\n",
    "        'Friday, 11.10.13',\n",
    "        'Thursday, 18 August 1977'\n",
    "    ]\n",
    "    date_formaters = [\n",
    "        '%A, %B %d, %Y',\n",
    "        '%A, %d.%m.%y',\n",
    "        '%A, %d %B %Y'\n",
    "    ]\n",
    "\n",
    "    dates = []\n",
    "    for date in srt_dates:\n",
    "        transform_date = transform_to_date(date, date_formaters)\n",
    "        if transform_date != None:\n",
    "            dates.append(transform_date)\n",
    "\n",
    "    for date in dates:\n",
    "        print(type(date), date)\n",
    "\n",
    "def transform_to_date(str_date: str, date_formaters: [str]) -> datetime:\n",
    "    for formater in date_formaters:\n",
    "        try:\n",
    "            return datetime.strptime(str_date, formater)\n",
    "        except:\n",
    "            pass\n",
    "\n",
    "\n",
    "main()"
   ],
   "metadata": {
    "collapsed": false,
    "pycharm": {
     "name": "#%%\n"
    }
   }
  }
 ],
 "metadata": {
  "kernelspec": {
   "display_name": "Python 3",
   "language": "python",
   "name": "python3"
  },
  "language_info": {
   "codemirror_mode": {
    "name": "ipython",
    "version": 2
   },
   "file_extension": ".py",
   "mimetype": "text/x-python",
   "name": "python",
   "nbconvert_exporter": "python",
   "pygments_lexer": "ipython2",
   "version": "2.7.6"
  }
 },
 "nbformat": 4,
 "nbformat_minor": 0
}