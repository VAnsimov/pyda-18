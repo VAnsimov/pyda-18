{
 "cells": [
  {
   "cell_type": "markdown",
   "id": "foreign-woman",
   "metadata": {
    "pycharm": {
     "name": "#%% md\n"
    }
   },
   "source": [
    "# Задание 5 (необязательное)\n",
    "\n",
    "Дана переменная, в которой хранится шестизначное число (номер проездного билета). Напишите программу, которая будет\n",
    "определять, является ли данный билет \"счастливым\". Билет считается счастливым, если сумма первых трех цифр совпадает\n",
    "с суммой последних трех цифр номера.\n",
    "\n",
    "Примеры работы программы:\n",
    "```\n",
    "number = 123456\n",
    "\n",
    "Результат:\n",
    "Неасчастливый билет\n",
    "```\n",
    "```\n",
    "number = 123321\n",
    "\n",
    "Результат:\n",
    "Счастливый билет\n",
    "```"
   ]
  },
  {
   "cell_type": "code",
   "execution_count": 1,
   "outputs": [
    {
     "name": "stdout",
     "output_type": "stream",
     "text": [
      "Неасчастливый билет\n"
     ]
    }
   ],
   "source": [
    "number = 123456\n",
    "numberOne = (number // 100000) % 10\n",
    "numberTwo = (number // 10000) % 10\n",
    "numberThree = (number // 1000) % 10\n",
    "numberFour = (number // 100) % 10\n",
    "numberFive = (number // 10) % 10\n",
    "numberSix = number % 10\n",
    "\n",
    "if numberOne + numberTwo + numberThree == numberFour + numberFive + numberSix:\n",
    "    print('Счастливый билет')\n",
    "else:\n",
    "    print('Неасчастливый билет')"
   ],
   "metadata": {
    "collapsed": false,
    "pycharm": {
     "name": "#%%\n"
    }
   }
  }
 ],
 "metadata": {
  "kernelspec": {
   "display_name": "Python 3",
   "language": "python",
   "name": "python3"
  },
  "language_info": {
   "codemirror_mode": {
    "name": "ipython",
    "version": 3
   },
   "file_extension": ".py",
   "mimetype": "text/x-python",
   "name": "python",
   "nbconvert_exporter": "python",
   "pygments_lexer": "ipython3",
   "version": "3.9.1"
  }
 },
 "nbformat": 4,
 "nbformat_minor": 5
}