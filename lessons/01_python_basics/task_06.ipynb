{
 "cells": [
  {
   "cell_type": "markdown",
   "id": "skilled-dimension",
   "metadata": {
    "pycharm": {
     "name": "#%% md\n"
    }
   },
   "source": [
    "# Задание 6 (необязательное)\n",
    "\n",
    "Напишите программу, которая сможет вычислять площади трех фигур (круг, треугольник и прямоугольник). Тип фигуры\n",
    "запрашиваем через пользовательский ввод, после чего делаем запрос характеристик фигуры:\n",
    " - если пользователь выбрал круг, запрашиваем его радиус,\n",
    " - если треугольник – длины трех его сторон;\n",
    " - если прямоугольник – длины двух его сторон.\n",
    "\n",
    "Пример работы программы:\n",
    "```\n",
    "Введите тип фигуры: Круг\n",
    "Введите радиус круга: 10\n",
    "\n",
    "Результат:\n",
    "Площадь круга: 314.16\n",
    "```\n",
    "```\n",
    "Введите тип фигуры: Треугольник\n",
    "Введите длину стороны A: 2\n",
    "Введите длину стороны B: 2\n",
    "Введите длину стороны C: 3\n",
    "\n",
    "Результат:\n",
    "Площадь треугольника: 1.98\n",
    "```"
   ]
  },
  {
   "cell_type": "code",
   "execution_count": 4,
   "outputs": [
    {
     "name": "stdout",
     "output_type": "stream",
     "text": [
      "Неизвестная фигура\n"
     ]
    }
   ],
   "source": [
    "figure = input(\"Введите тип фигуры:\\n\")\n",
    "\n",
    "if figure == 'Круг':\n",
    "    radius = float(input('Введите радиус круга:\\n'))\n",
    "    pi = 3.14159\n",
    "    print('Площадь круга:', pi * radius ** 2)\n",
    "elif figure == 'Треугольник':\n",
    "    sideA = float(input('Введите длину стороны A:\\n'))\n",
    "    sideB = float(input('Введите длину стороны B:\\n'))\n",
    "    sideC = float(input('Введите длину стороны C:\\n'))\n",
    "    half_perimeter = (sideA + sideB + sideC) / 2.0\n",
    "    area = (half_perimeter * (half_perimeter - sideA) * (half_perimeter - sideB) * (half_perimeter - sideC)) ** 0.5\n",
    "    print('Площадь треугольника: ', area)\n",
    "elif figure == 'Прямоугольник':\n",
    "    sideA = float(input('Введите длину стороны A:\\n'))\n",
    "    sideB = float(input('Введите длину стороны B:\\n'))\n",
    "    print('Площадь прямоугольника: ', sideA * sideB)\n",
    "else:\n",
    "    print('Неизвестная фигура')"
   ],
   "metadata": {
    "collapsed": false,
    "pycharm": {
     "name": "#%%\n"
    }
   }
  }
 ],
 "metadata": {
  "kernelspec": {
   "display_name": "Python 3",
   "language": "python",
   "name": "python3"
  },
  "language_info": {
   "codemirror_mode": {
    "name": "ipython",
    "version": 3
   },
   "file_extension": ".py",
   "mimetype": "text/x-python",
   "name": "python",
   "nbconvert_exporter": "python",
   "pygments_lexer": "ipython3",
   "version": "3.9.1"
  }
 },
 "nbformat": 4,
 "nbformat_minor": 5
}