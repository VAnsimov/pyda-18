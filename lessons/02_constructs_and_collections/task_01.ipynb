{
 "cells": [
  {
   "cell_type": "markdown",
   "metadata": {
    "pycharm": {
     "name": "#%% md\n"
    }
   },
   "source": [
    "## Задание 1\n",
    "Дана переменная, в которой хранится слово из латинских букв. Напишите код, который выводит на экран:\n",
    "- среднюю букву, если число букв в слове нечетное;\n",
    "- две средних буквы, если число букв четное.\n",
    "\n",
    "Примеры работы программы:  \n",
    "1. `word = 'test'`\n",
    "\n",
    "Результат:  \n",
    "`es`\n",
    "2.     \n",
    "`word = 'testing'`\n",
    "\n",
    "Результат:  \n",
    "`t`"
   ]
  },
  {
   "cell_type": "code",
   "execution_count": 2,
   "outputs": [
    {
     "name": "stdout",
     "output_type": "stream",
     "text": [
      "t\n"
     ]
    }
   ],
   "source": [
    "word = 'test'\n",
    "middle = len(word) // 2\n",
    "\n",
    "if len(word) == 0:\n",
    "    print('')\n",
    "if len(word) % 2 == 0:\n",
    "    print(word[middle-1 : middle+1])\n",
    "else:\n",
    "    print(word[middle])\n"
   ],
   "metadata": {
    "collapsed": false,
    "pycharm": {
     "name": "#%%\n"
    }
   }
  }
 ],
 "metadata": {
  "kernelspec": {
   "display_name": "Python 3",
   "language": "python",
   "name": "python3"
  },
  "language_info": {
   "codemirror_mode": {
    "name": "ipython",
    "version": 3
   },
   "file_extension": ".py",
   "mimetype": "text/x-python",
   "name": "python",
   "nbconvert_exporter": "python",
   "pygments_lexer": "ipython3",
   "version": "3.8.5"
  }
 },
 "nbformat": 4,
 "nbformat_minor": 2
}