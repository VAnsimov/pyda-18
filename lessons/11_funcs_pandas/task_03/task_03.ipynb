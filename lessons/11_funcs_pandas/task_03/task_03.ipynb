{
 "cells": [
  {
   "cell_type": "markdown",
   "id": "modified-processor",
   "metadata": {},
   "source": [
    "### Задание 3 (бонусное)\n",
    "\n",
    "Есть мнение, что “раньше снимали настоящее кино, не то что сейчас”. Ваша задача проверить это утверждение, используя файлы с рейтингами фильмов из прошлого домашнего занятия (файл movies.csv и ratings.csv из базы https://grouplens.org/datasets/movielens). Т. е. проверить верно ли, что с ростом года выпуска фильма его средний рейтинг становится ниже.\n",
    "\n",
    "При этом мы не будем затрагивать субьективные факторы выставления этих рейтингов, а пройдемся по следующему алгоритму:\n",
    "\n",
    "1. В переменную years запишите список из всех годов с 1950 по 2010.\n",
    "2. Напишите функцию production_year, которая каждой строке из названия фильма выставляет год выпуска. Не все названия фильмов содержат год выпуска в одинаковом формате, поэтому используйте следующий алгоритм:\n",
    "    * для каждой строки пройдите по всем годам списка years\n",
    "    * если номер года присутствует в названии фильма, то функция возвращает этот год как год выпуска\n",
    "    * если ни один из номеров года списка years не встретился в названии фильма, то возвращается 1900 год\n",
    "3. Запишите год выпуска фильма по алгоритму пункта 2 в новый столбец ‘year’\n",
    "4. Посчитайте средний рейтинг всех фильмов для каждого значения столбца ‘year’ и отсортируйте результат по убыванию рейтинга"
   ]
  },
  {
   "cell_type": "code",
   "execution_count": 23,
   "id": "elect-password",
   "metadata": {
    "pycharm": {
     "name": "#%%\n"
    }
   },
   "outputs": [
    {
     "data": {
      "text/plain": "      MovieID                                      Title  \\\n977       989  Schlafes Bruder (Brother of Sleep) (1995)   \n3811     3881                   Bittersweet Motel (2000)   \n1762     1830                    Follow the Bitch (1998)   \n3313     3382                     Song of Freedom (1936)   \n777       787         Gate of Heavenly Peace, The (1995)   \n3211     3280                           Baby, The (1973)   \n3538     3607                   One Little Indian (1973)   \n3164     3233                       Smashing Time (1967)   \n3103     3172                    Ulysses (Ulisse) (1954)   \n3587     3656                               Lured (1947)   \n\n                    Genres  Year  Rating  \n977                  Drama  1995     5.0  \n3811           Documentary  2000     5.0  \n1762                Comedy  1998     5.0  \n3313                 Drama  1900     5.0  \n777            Documentary  1995     5.0  \n3211                Horror  1973     5.0  \n3538  Comedy|Drama|Western  1973     5.0  \n3164                Comedy  1967     5.0  \n3103             Adventure  1954     5.0  \n3587                 Crime  1900     5.0  ",
      "text/html": "<div>\n<style scoped>\n    .dataframe tbody tr th:only-of-type {\n        vertical-align: middle;\n    }\n\n    .dataframe tbody tr th {\n        vertical-align: top;\n    }\n\n    .dataframe thead th {\n        text-align: right;\n    }\n</style>\n<table border=\"1\" class=\"dataframe\">\n  <thead>\n    <tr style=\"text-align: right;\">\n      <th></th>\n      <th>MovieID</th>\n      <th>Title</th>\n      <th>Genres</th>\n      <th>Year</th>\n      <th>Rating</th>\n    </tr>\n  </thead>\n  <tbody>\n    <tr>\n      <th>977</th>\n      <td>989</td>\n      <td>Schlafes Bruder (Brother of Sleep) (1995)</td>\n      <td>Drama</td>\n      <td>1995</td>\n      <td>5.0</td>\n    </tr>\n    <tr>\n      <th>3811</th>\n      <td>3881</td>\n      <td>Bittersweet Motel (2000)</td>\n      <td>Documentary</td>\n      <td>2000</td>\n      <td>5.0</td>\n    </tr>\n    <tr>\n      <th>1762</th>\n      <td>1830</td>\n      <td>Follow the Bitch (1998)</td>\n      <td>Comedy</td>\n      <td>1998</td>\n      <td>5.0</td>\n    </tr>\n    <tr>\n      <th>3313</th>\n      <td>3382</td>\n      <td>Song of Freedom (1936)</td>\n      <td>Drama</td>\n      <td>1900</td>\n      <td>5.0</td>\n    </tr>\n    <tr>\n      <th>777</th>\n      <td>787</td>\n      <td>Gate of Heavenly Peace, The (1995)</td>\n      <td>Documentary</td>\n      <td>1995</td>\n      <td>5.0</td>\n    </tr>\n    <tr>\n      <th>3211</th>\n      <td>3280</td>\n      <td>Baby, The (1973)</td>\n      <td>Horror</td>\n      <td>1973</td>\n      <td>5.0</td>\n    </tr>\n    <tr>\n      <th>3538</th>\n      <td>3607</td>\n      <td>One Little Indian (1973)</td>\n      <td>Comedy|Drama|Western</td>\n      <td>1973</td>\n      <td>5.0</td>\n    </tr>\n    <tr>\n      <th>3164</th>\n      <td>3233</td>\n      <td>Smashing Time (1967)</td>\n      <td>Comedy</td>\n      <td>1967</td>\n      <td>5.0</td>\n    </tr>\n    <tr>\n      <th>3103</th>\n      <td>3172</td>\n      <td>Ulysses (Ulisse) (1954)</td>\n      <td>Adventure</td>\n      <td>1954</td>\n      <td>5.0</td>\n    </tr>\n    <tr>\n      <th>3587</th>\n      <td>3656</td>\n      <td>Lured (1947)</td>\n      <td>Crime</td>\n      <td>1900</td>\n      <td>5.0</td>\n    </tr>\n  </tbody>\n</table>\n</div>"
     },
     "execution_count": 23,
     "metadata": {},
     "output_type": "execute_result"
    }
   ],
   "source": [
    "import pandas\n",
    "import numpy\n",
    "\n",
    "def get_ratings() -> pandas.Series:\n",
    "    return pandas.read_table(\n",
    "        'ratings.dat',\n",
    "        names=['UserID', 'MovieID', 'Rating', 'Timestamp'],\n",
    "        sep='::',\n",
    "        engine='python'\n",
    "    )\n",
    "\n",
    "def get_movies() -> pandas.DataFrame:\n",
    "    return pandas.read_table(\n",
    "        'movies.dat',\n",
    "        names=['MovieID', 'Title', 'Genres'],\n",
    "        sep='::',\n",
    "        engine='python'\n",
    "    )\n",
    "\n",
    "def production_year(title: str, years: [int]) -> int:\n",
    "    for year in years:\n",
    "        if f'{year}' in title:\n",
    "            return int(year)\n",
    "    return 1900\n",
    "\n",
    "def production_rating(movieID: int, ratings: pandas.DataFrame) -> float:\n",
    "    filter_rating = ratings[ratings['MovieID'] == movieID]\n",
    "\n",
    "    if len(filter_rating) == 0:\n",
    "        return numpy.nan\n",
    "\n",
    "    return float(filter_rating['Rating'])\n",
    "\n",
    "def get_movies_with_year(movies: pandas.DataFrame, mean_ratings: pandas.DataFrame) -> pandas.DataFrame:\n",
    "    '''\n",
    "    Puts the average rating for each movie in a separate column\n",
    "    '''\n",
    "    move_years = list(numpy.arange(1950, 2010))\n",
    "    movies['Year'] = movies['Title'].apply(production_year, years=move_years)\n",
    "    movies['Rating'] = movies['MovieID'].apply(production_rating, ratings=mean_ratings)\n",
    "    return movies.sort_values(by='Rating', ascending=False).head(10)\n",
    "\n",
    "movies = get_movies_with_year(\n",
    "    movies=get_movies(),\n",
    "    mean_ratings=get_ratings().groupby('MovieID', as_index=False).mean()\n",
    ")\n",
    "\n",
    "movies.sort_values(by='Rating', ascending=False).head(10)"
   ]
  }
 ],
 "metadata": {
  "kernelspec": {
   "display_name": "Python 3",
   "language": "python",
   "name": "python3"
  },
  "language_info": {
   "codemirror_mode": {
    "name": "ipython",
    "version": 3
   },
   "file_extension": ".py",
   "mimetype": "text/x-python",
   "name": "python",
   "nbconvert_exporter": "python",
   "pygments_lexer": "ipython3",
   "version": "3.9.1"
  },
  "toc-autonumbering": true,
  "toc-showcode": true,
  "toc-showmarkdowntxt": false
 },
 "nbformat": 4,
 "nbformat_minor": 5
}