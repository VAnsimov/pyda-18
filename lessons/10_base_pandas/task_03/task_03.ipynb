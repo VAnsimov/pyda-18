{
 "cells": [
  {
   "cell_type": "markdown",
   "metadata": {},
   "source": [
    "### Задание 3\n",
    "Выберите страницу любого сайта с табличными данными. Импортируйте таблицы в pandas dataframe.\n",
    "Примеры страниц (необязательно брать именно эти):\n",
    "https://fortrader.org/quotes\n",
    "https://www.finanz.ru/valyuty/v-realnom-vremeni"
   ]
  },
  {
   "cell_type": "code",
   "execution_count": 1,
   "metadata": {},
   "outputs": [
    {
     "name": "stdout",
     "output_type": "stream",
     "text": [
      "  место                  название банка лицензия №, Регион\n",
      "  место                  название банка лицензия №, Регион\n",
      "0     1            СберБанк лицензия № 1481, Москва и обл.\n",
      "1     2        ВТБ лицензия № 1000, Санкт-Петербург и обл.\n",
      "2     3          Газпромбанк лицензия № 354, Москва и обл.\n",
      "3     4  Национальный Клиринговый Центр лицензия № 3466...\n",
      "4     5          Альфа-Банк лицензия № 1326, Москва и обл.\n"
     ]
    }
   ],
   "source": [
    "import pandas\n",
    "\n",
    "def main():\n",
    "    print_bank_ratings()\n",
    "\n",
    "def print_bank_ratings():\n",
    "    tables = pandas.read_html('https://www.banki.ru/banks/ratings/?source=submenu_banksratings')\n",
    "    if len(tables) == 0:\n",
    "        return\n",
    "    bank_ratings = tables[0]\n",
    "\n",
    "    print(bank_ratings[['место', 'название банка лицензия №, Регион']].head())\n",
    "\n",
    "main()\n",
    "\n"
   ]
  }
 ],
 "metadata": {
  "kernelspec": {
   "display_name": "Python 3",
   "language": "python",
   "name": "python3"
  },
  "language_info": {
   "codemirror_mode": {
    "name": "ipython",
    "version": 3
   },
   "file_extension": ".py",
   "mimetype": "text/x-python",
   "name": "python",
   "nbconvert_exporter": "python",
   "pygments_lexer": "ipython3",
   "version": "3.6.6+"
  }
 },
 "nbformat": 4,
 "nbformat_minor": 2
}