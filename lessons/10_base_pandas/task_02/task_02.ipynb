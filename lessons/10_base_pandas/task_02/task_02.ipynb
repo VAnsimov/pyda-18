{
 "cells": [
  {
   "cell_type": "markdown",
   "metadata": {},
   "source": [
    "### Задание 2\n",
    "По данным файла power.csv посчитайте суммарное потребление стран Прибалтики (Латвия, Литва и Эстония) категорий 4, 12 и 21 за период с 2005 по 2010 года. Не учитывайте в расчетах отрицательные значения quantity."
   ]
  },
  {
   "cell_type": "code",
   "execution_count": 3,
   "metadata": {
    "pycharm": {
     "name": "#%%\n"
    }
   },
   "outputs": [
    {
     "name": "stdout",
     "output_type": "stream",
     "text": [
      "          country  year  quantity  category\n",
      "10617     Estonia  2008       1.0         4\n",
      "10618     Estonia  2007       0.0         4\n",
      "10619     Estonia  2006       0.0         4\n",
      "11156   Lithuania  2008       1.0         4\n",
      "11157   Lithuania  2007       0.0         4\n",
      "...           ...   ...       ...       ...\n",
      "253966     Latvia  2006      27.0        21\n",
      "253982  Lithuania  2009      98.0        21\n",
      "253983  Lithuania  2008      54.0        21\n",
      "253984  Lithuania  2007      47.0        21\n",
      "253985  Lithuania  2006      31.0        21\n",
      "\n",
      "[288 rows x 4 columns]\n"
     ]
    }
   ],
   "source": [
    "import pandas\n",
    "\n",
    "def main():\n",
    "    print_power()\n",
    "\n",
    "def print_power():\n",
    "    power = pandas.read_csv('power.csv')\n",
    "    power = power[(power['country'] == 'Latvia') | (power['country'] == 'Estonia') | (power['country'] == 'Lithuania')]\n",
    "    power = power[power['quantity'] >= 0]\n",
    "    power = power[(power['category'] == 4) | (power['category'] == 12) | (power['category'] == 21)]\n",
    "    power = power[(power['year'] > 2005) & (power['year'] < 2010)]\n",
    "    print(power)\n",
    "\n",
    "main()"
   ]
  }
 ],
 "metadata": {
  "kernelspec": {
   "display_name": "Python 3",
   "language": "python",
   "name": "python3"
  },
  "language_info": {
   "codemirror_mode": {
    "name": "ipython",
    "version": 3
   },
   "file_extension": ".py",
   "mimetype": "text/x-python",
   "name": "python",
   "nbconvert_exporter": "python",
   "pygments_lexer": "ipython3",
   "version": "3.6.6+"
  }
 },
 "nbformat": 4,
 "nbformat_minor": 2
}