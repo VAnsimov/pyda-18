{
 "cells": [
  {
   "cell_type": "markdown",
   "metadata": {},
   "source": [
    "### Задание 1\n",
    "Скачайте с сайта https://grouplens.org/datasets/movielens/ датасет любого размера. Определите какому фильму было выставлено больше всего оценок 5.0."
   ]
  },
  {
   "cell_type": "code",
   "execution_count": 3,
   "metadata": {
    "pycharm": {
     "name": "#%%\n"
    }
   },
   "outputs": [
    {
     "name": "stdout",
     "output_type": "stream",
     "text": [
      "      MovieID                                   Title Genres\n",
      "1176     1193  One Flew Over the Cuckoo's Nest (1975)  Drama\n"
     ]
    }
   ],
   "source": [
    "import pandas\n",
    "\n",
    "def main():\n",
    "    print_ratings()\n",
    "\n",
    "def print_ratings():\n",
    "    ratings_MovieId = get_ratings_MovieId(5)\n",
    "    moveies = get_move(ratings_MovieId)\n",
    "    print(moveies)\n",
    "\n",
    "def get_ratings_MovieId(value: int) -> pandas.Series:\n",
    "    ratings = pandas.read_table(\n",
    "        'ratings.dat',\n",
    "        names=['UserID', 'MovieID', 'Rating', 'Timestamp'],\n",
    "        sep='::',\n",
    "        engine='python'\n",
    "    )\n",
    "    return ratings[ratings['Rating'] == value]['MovieID']\n",
    "\n",
    "def get_move(ratings_MovieId: pandas.Series) -> pandas.DataFrame:\n",
    "    moveies = pandas.read_table('movies.dat', names=['MovieID', 'Title', 'Genres'], sep='::', engine='python')\n",
    "    return moveies[moveies['MovieID'] == ratings_MovieId[0]]\n",
    "\n",
    "main()"
   ]
  }
 ],
 "metadata": {
  "kernelspec": {
   "display_name": "Python 3",
   "language": "python",
   "name": "python3"
  },
  "language_info": {
   "codemirror_mode": {
    "name": "ipython",
    "version": 3
   },
   "file_extension": ".py",
   "mimetype": "text/x-python",
   "name": "python",
   "nbconvert_exporter": "python",
   "pygments_lexer": "ipython3",
   "version": "3.6.6+"
  }
 },
 "nbformat": 4,
 "nbformat_minor": 2
}