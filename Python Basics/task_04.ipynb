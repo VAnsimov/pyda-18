{
 "cells": [
  {
   "cell_type": "code",
   "execution_count": null,
   "id": "pending-classics",
   "metadata": {},
   "outputs": [],
   "source": [
    "# Задание 4\n",
    "# Вам нужно написать программу для подбора упаковок по размерам товара. Размеры (ширина, длина, высота) хранятся\n",
    "# в переменных (в сантиметрах):\n",
    "# Используйте следующие правила:\n",
    "#  - если каждое из трех измерений менее 15 сантиметров, то выведите на экран \"Коробка №1\";\n",
    "#  - если хотя бы одно из измерений больше 15 сантиметров, но менее 50 сантиметров, то выводите \"Коробка №2\";\n",
    "#  - если длина товара больше 2 метров, то выводите \"Упаковка для лыж\";\n",
    "#  - во всех остальных случаях выводите \"Стандартная коробка №3\".\n",
    "#\n",
    "# Пример работы программы:\n",
    "#\n",
    "# width = 15\n",
    "# length = 50\n",
    "# height = 15\n",
    "#\n",
    "# Результат:\n",
    "# Стандартная коробка №3\n",
    "#\n",
    "# width = 45\n",
    "# length = 205\n",
    "# height = 45\n",
    "#\n",
    "# Результат:\n",
    "# Ищите упаковку для лыж\n",
    "\n",
    "witdh = 45\n",
    "lenght = 205\n",
    "height = 45\n",
    "\n",
    "if witdh < 15 \\\n",
    "        and lenght < 15 \\\n",
    "        and height < 15:\n",
    "    print('Коробка №1')\n",
    "elif (15 < witdh < 50 \\\n",
    "        or 15 < lenght < 50 \\\n",
    "        or 15 < height < 50) \\\n",
    "        and witdh <= 200 \\\n",
    "        and lenght <= 200 \\\n",
    "        and height <= 200:\n",
    "    print('Коробка №2')\n",
    "elif witdh > 200 \\\n",
    "        or lenght > 200 \\\n",
    "        or height > 200:\n",
    "    print('Упаковка для лыж')\n",
    "else:\n",
    "    print('Стандартная коробка №3')"
   ]
  }
 ],
 "metadata": {
  "kernelspec": {
   "display_name": "Python 3",
   "language": "python",
   "name": "python3"
  },
  "language_info": {
   "codemirror_mode": {
    "name": "ipython",
    "version": 3
   },
   "file_extension": ".py",
   "mimetype": "text/x-python",
   "name": "python",
   "nbconvert_exporter": "python",
   "pygments_lexer": "ipython3",
   "version": "3.9.1"
  }
 },
 "nbformat": 4,
 "nbformat_minor": 5
}
