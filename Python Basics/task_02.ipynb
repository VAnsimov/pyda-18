{
 "cells": [
  {
   "cell_type": "code",
   "execution_count": 1,
   "id": "successful-mayor",
   "metadata": {},
   "outputs": [
    {
     "name": "stdout",
     "output_type": "stream",
     "text": [
      "Високосный год\n"
     ]
    }
   ],
   "source": [
    "# Задание 2\n",
    "#\n",
    "# Дана переменная, в которой хранится четырехзначное число (год). Необходимо написать программу, которая выведет,\n",
    "# является ли данный год високосным или обычным.\n",
    "#\n",
    "# Пример работы программы:\n",
    "#\n",
    "# year = 2020\n",
    "# Результат:\n",
    "# Високосный год\n",
    "#\n",
    "# year = 2019\n",
    "# Результат:\n",
    "# Обычный год\n",
    "\n",
    "year = 2020\n",
    "\n",
    "if (year % 100 == 0 and year % 400 == 0) or (year % 4 == 0 and year % 100 != 0):\n",
    "    print('Високосный год')\n",
    "else:\n",
    "    print('Обычный год')"
   ]
  },
  {
   "cell_type": "code",
   "execution_count": null,
   "id": "missing-modification",
   "metadata": {},
   "outputs": [],
   "source": []
  }
 ],
 "metadata": {
  "kernelspec": {
   "display_name": "Python 3",
   "language": "python",
   "name": "python3"
  },
  "language_info": {
   "codemirror_mode": {
    "name": "ipython",
    "version": 3
   },
   "file_extension": ".py",
   "mimetype": "text/x-python",
   "name": "python",
   "nbconvert_exporter": "python",
   "pygments_lexer": "ipython3",
   "version": "3.9.1"
  }
 },
 "nbformat": 4,
 "nbformat_minor": 5
}
