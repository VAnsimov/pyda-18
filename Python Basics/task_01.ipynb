{
 "cells": [
  {
   "cell_type": "code",
   "execution_count": 1,
   "id": "clinical-sector",
   "metadata": {},
   "outputs": [
    {
     "name": "stdout",
     "output_type": "stream",
     "text": [
      "Фраза 1 длиннее фразы 2\n"
     ]
    }
   ],
   "source": [
    "# Задание 1\n",
    "#\n",
    "# Даны 2 переменных, в которых хранятся строки произвольной длины: phrase_1 и phrase_2.\n",
    "# Напишите код, который проверяет какая из этих строк длиннее.\n",
    "#\n",
    "# Примеры работы программы:\n",
    "#\n",
    "# phrase_1 = 'Насколько проще было бы писать программы, если бы не заказчики'\n",
    "# phrase_2 = '640Кб должно хватить для любых задач. Билл Гейтс (по легенде)'\n",
    "# Результат:\n",
    "# Фраза 1 длиннее фразы 2\n",
    "#\n",
    "# phrase_1 = '640Кб должно хватить для любых задач. Билл Гейтс (по легенде)'\n",
    "# phrase_2 = 'Насколько проще было бы писать программы, если бы не заказчики'\n",
    "# Результат:\n",
    "# Фраза 2 длиннее фразы 1\n",
    "#\n",
    "# phrase_1 = 'Насколько проще было бы писать программы, если бы не заказчики'\n",
    "# phrase_2 = 'Насколько проще было бы писать программы, если бы не заказчики'\n",
    "# Результат:\n",
    "# Фразы равной длины\n",
    "\n",
    "phrase_1 = 'Насколько проще было бы писать программы, если бы не заказчики'\n",
    "phrase_2 = '640Кб должно хватить для любых задач. Билл Гейтс (по легенде)'\n",
    "\n",
    "if len(phrase_1) > len(phrase_2):\n",
    "    print('Фраза 1 длиннее фразы 2')\n",
    "elif len(phrase_1) < len(phrase_2):\n",
    "    print('Фраза 2 длиннее фразы 1')\n",
    "else:\n",
    "    print('Фразы равной длины')"
   ]
  },
  {
   "cell_type": "code",
   "execution_count": null,
   "id": "under-television",
   "metadata": {},
   "outputs": [],
   "source": []
  }
 ],
 "metadata": {
  "kernelspec": {
   "display_name": "Python 3",
   "language": "python",
   "name": "python3"
  },
  "language_info": {
   "codemirror_mode": {
    "name": "ipython",
    "version": 3
   },
   "file_extension": ".py",
   "mimetype": "text/x-python",
   "name": "python",
   "nbconvert_exporter": "python",
   "pygments_lexer": "ipython3",
   "version": "3.9.1"
  }
 },
 "nbformat": 4,
 "nbformat_minor": 5
}
